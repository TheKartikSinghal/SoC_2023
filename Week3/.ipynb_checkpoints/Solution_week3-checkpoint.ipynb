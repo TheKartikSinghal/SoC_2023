{
 "cells": [
  {
   "cell_type": "code",
   "execution_count": 129,
   "id": "05c14e67",
   "metadata": {},
   "outputs": [],
   "source": [
    "import pandas as pd\n",
    "import numpy as np\n",
    "import matplotlib.pyplot as plt"
   ]
  },
  {
   "cell_type": "code",
   "execution_count": 130,
   "id": "2a0c2490",
   "metadata": {},
   "outputs": [],
   "source": [
    "df = pd.read_csv('train.csv')"
   ]
  },
  {
   "cell_type": "code",
   "execution_count": 131,
   "id": "61df093f",
   "metadata": {},
   "outputs": [
    {
     "data": {
      "text/html": [
       "<div>\n",
       "<style scoped>\n",
       "    .dataframe tbody tr th:only-of-type {\n",
       "        vertical-align: middle;\n",
       "    }\n",
       "\n",
       "    .dataframe tbody tr th {\n",
       "        vertical-align: top;\n",
       "    }\n",
       "\n",
       "    .dataframe thead th {\n",
       "        text-align: right;\n",
       "    }\n",
       "</style>\n",
       "<table border=\"1\" class=\"dataframe\">\n",
       "  <thead>\n",
       "    <tr style=\"text-align: right;\">\n",
       "      <th></th>\n",
       "      <th>label</th>\n",
       "      <th>pixel0</th>\n",
       "      <th>pixel1</th>\n",
       "      <th>pixel2</th>\n",
       "      <th>pixel3</th>\n",
       "      <th>pixel4</th>\n",
       "      <th>pixel5</th>\n",
       "      <th>pixel6</th>\n",
       "      <th>pixel7</th>\n",
       "      <th>pixel8</th>\n",
       "      <th>...</th>\n",
       "      <th>pixel774</th>\n",
       "      <th>pixel775</th>\n",
       "      <th>pixel776</th>\n",
       "      <th>pixel777</th>\n",
       "      <th>pixel778</th>\n",
       "      <th>pixel779</th>\n",
       "      <th>pixel780</th>\n",
       "      <th>pixel781</th>\n",
       "      <th>pixel782</th>\n",
       "      <th>pixel783</th>\n",
       "    </tr>\n",
       "  </thead>\n",
       "  <tbody>\n",
       "    <tr>\n",
       "      <th>0</th>\n",
       "      <td>1</td>\n",
       "      <td>0</td>\n",
       "      <td>0</td>\n",
       "      <td>0</td>\n",
       "      <td>0</td>\n",
       "      <td>0</td>\n",
       "      <td>0</td>\n",
       "      <td>0</td>\n",
       "      <td>0</td>\n",
       "      <td>0</td>\n",
       "      <td>...</td>\n",
       "      <td>0</td>\n",
       "      <td>0</td>\n",
       "      <td>0</td>\n",
       "      <td>0</td>\n",
       "      <td>0</td>\n",
       "      <td>0</td>\n",
       "      <td>0</td>\n",
       "      <td>0</td>\n",
       "      <td>0</td>\n",
       "      <td>0</td>\n",
       "    </tr>\n",
       "    <tr>\n",
       "      <th>1</th>\n",
       "      <td>0</td>\n",
       "      <td>0</td>\n",
       "      <td>0</td>\n",
       "      <td>0</td>\n",
       "      <td>0</td>\n",
       "      <td>0</td>\n",
       "      <td>0</td>\n",
       "      <td>0</td>\n",
       "      <td>0</td>\n",
       "      <td>0</td>\n",
       "      <td>...</td>\n",
       "      <td>0</td>\n",
       "      <td>0</td>\n",
       "      <td>0</td>\n",
       "      <td>0</td>\n",
       "      <td>0</td>\n",
       "      <td>0</td>\n",
       "      <td>0</td>\n",
       "      <td>0</td>\n",
       "      <td>0</td>\n",
       "      <td>0</td>\n",
       "    </tr>\n",
       "    <tr>\n",
       "      <th>2</th>\n",
       "      <td>1</td>\n",
       "      <td>0</td>\n",
       "      <td>0</td>\n",
       "      <td>0</td>\n",
       "      <td>0</td>\n",
       "      <td>0</td>\n",
       "      <td>0</td>\n",
       "      <td>0</td>\n",
       "      <td>0</td>\n",
       "      <td>0</td>\n",
       "      <td>...</td>\n",
       "      <td>0</td>\n",
       "      <td>0</td>\n",
       "      <td>0</td>\n",
       "      <td>0</td>\n",
       "      <td>0</td>\n",
       "      <td>0</td>\n",
       "      <td>0</td>\n",
       "      <td>0</td>\n",
       "      <td>0</td>\n",
       "      <td>0</td>\n",
       "    </tr>\n",
       "    <tr>\n",
       "      <th>3</th>\n",
       "      <td>4</td>\n",
       "      <td>0</td>\n",
       "      <td>0</td>\n",
       "      <td>0</td>\n",
       "      <td>0</td>\n",
       "      <td>0</td>\n",
       "      <td>0</td>\n",
       "      <td>0</td>\n",
       "      <td>0</td>\n",
       "      <td>0</td>\n",
       "      <td>...</td>\n",
       "      <td>0</td>\n",
       "      <td>0</td>\n",
       "      <td>0</td>\n",
       "      <td>0</td>\n",
       "      <td>0</td>\n",
       "      <td>0</td>\n",
       "      <td>0</td>\n",
       "      <td>0</td>\n",
       "      <td>0</td>\n",
       "      <td>0</td>\n",
       "    </tr>\n",
       "    <tr>\n",
       "      <th>4</th>\n",
       "      <td>0</td>\n",
       "      <td>0</td>\n",
       "      <td>0</td>\n",
       "      <td>0</td>\n",
       "      <td>0</td>\n",
       "      <td>0</td>\n",
       "      <td>0</td>\n",
       "      <td>0</td>\n",
       "      <td>0</td>\n",
       "      <td>0</td>\n",
       "      <td>...</td>\n",
       "      <td>0</td>\n",
       "      <td>0</td>\n",
       "      <td>0</td>\n",
       "      <td>0</td>\n",
       "      <td>0</td>\n",
       "      <td>0</td>\n",
       "      <td>0</td>\n",
       "      <td>0</td>\n",
       "      <td>0</td>\n",
       "      <td>0</td>\n",
       "    </tr>\n",
       "  </tbody>\n",
       "</table>\n",
       "<p>5 rows × 785 columns</p>\n",
       "</div>"
      ],
      "text/plain": [
       "   label  pixel0  pixel1  pixel2  pixel3  pixel4  pixel5  pixel6  pixel7  \\\n",
       "0      1       0       0       0       0       0       0       0       0   \n",
       "1      0       0       0       0       0       0       0       0       0   \n",
       "2      1       0       0       0       0       0       0       0       0   \n",
       "3      4       0       0       0       0       0       0       0       0   \n",
       "4      0       0       0       0       0       0       0       0       0   \n",
       "\n",
       "   pixel8  ...  pixel774  pixel775  pixel776  pixel777  pixel778  pixel779  \\\n",
       "0       0  ...         0         0         0         0         0         0   \n",
       "1       0  ...         0         0         0         0         0         0   \n",
       "2       0  ...         0         0         0         0         0         0   \n",
       "3       0  ...         0         0         0         0         0         0   \n",
       "4       0  ...         0         0         0         0         0         0   \n",
       "\n",
       "   pixel780  pixel781  pixel782  pixel783  \n",
       "0         0         0         0         0  \n",
       "1         0         0         0         0  \n",
       "2         0         0         0         0  \n",
       "3         0         0         0         0  \n",
       "4         0         0         0         0  \n",
       "\n",
       "[5 rows x 785 columns]"
      ]
     },
     "execution_count": 131,
     "metadata": {},
     "output_type": "execute_result"
    }
   ],
   "source": [
    "df.head()"
   ]
  },
  {
   "cell_type": "code",
   "execution_count": 132,
   "id": "cf7ca87c",
   "metadata": {},
   "outputs": [],
   "source": [
    "y = df.label\n",
    "X_full = df.drop(['label'],axis = 1,inplace=False)\n",
    "X_full = X_full/255\n",
    "\n",
    "X_dev = X_full.iloc[0:1000,:]\n",
    "y_dev = y.iloc[0:1000]\n",
    "\n",
    "X_train = X_full.iloc[1000:X_full.shape[0],:]\n",
    "y_train = y.iloc[1000:y.shape[0]]\n",
    "\n"
   ]
  },
  {
   "cell_type": "code",
   "execution_count": 133,
   "id": "7b091198",
   "metadata": {},
   "outputs": [
    {
     "data": {
      "text/plain": [
       "pixel0      0.0\n",
       "pixel1      0.0\n",
       "pixel2      0.0\n",
       "pixel3      0.0\n",
       "pixel4      0.0\n",
       "           ... \n",
       "pixel779    0.0\n",
       "pixel780    0.0\n",
       "pixel781    0.0\n",
       "pixel782    0.0\n",
       "pixel783    0.0\n",
       "Name: 1000, Length: 784, dtype: float64"
      ]
     },
     "execution_count": 133,
     "metadata": {},
     "output_type": "execute_result"
    }
   ],
   "source": [
    "X_train.iloc[0]"
   ]
  },
  {
   "cell_type": "code",
   "execution_count": 134,
   "id": "9fc1a1a9",
   "metadata": {},
   "outputs": [
    {
     "data": {
      "text/plain": [
       "1"
      ]
     },
     "execution_count": 134,
     "metadata": {},
     "output_type": "execute_result"
    }
   ],
   "source": [
    "y_train.iloc[0]"
   ]
  },
  {
   "cell_type": "markdown",
   "id": "fc2161f7",
   "metadata": {},
   "source": [
    "## Part 1: Neural Network Implementation"
   ]
  },
  {
   "cell_type": "markdown",
   "id": "43bf2c8e",
   "metadata": {},
   "source": [
    "### i)"
   ]
  },
  {
   "cell_type": "code",
   "execution_count": 135,
   "id": "b5c7f3e2",
   "metadata": {},
   "outputs": [],
   "source": [
    "def init_params(layer_sizes=[784,120,45,10]):\n",
    "    num_layers = len(layer_sizes) - 1\n",
    "    network = []\n",
    "    for i in range(num_layers):\n",
    "        weights = np.random.rand(layer_sizes[i+1],layer_sizes[i])\n",
    "        biases = np.random.rand(layer_sizes[i+1],1)\n",
    "        network.append([weights,biases])\n",
    "    return network"
   ]
  },
  {
   "cell_type": "code",
   "execution_count": 136,
   "id": "6197e576",
   "metadata": {},
   "outputs": [
    {
     "name": "stdout",
     "output_type": "stream",
     "text": [
      "3\n"
     ]
    }
   ],
   "source": [
    "network = init_params()\n",
    "print(len(network))"
   ]
  },
  {
   "cell_type": "markdown",
   "id": "ffdb3e0a",
   "metadata": {},
   "source": [
    "### ii) Activation Functions"
   ]
  },
  {
   "cell_type": "code",
   "execution_count": 137,
   "id": "b80098d8",
   "metadata": {},
   "outputs": [],
   "source": [
    "def ReLU(a):\n",
    "    return np.maximum(0, a)"
   ]
  },
  {
   "cell_type": "code",
   "execution_count": 138,
   "id": "62381125",
   "metadata": {},
   "outputs": [],
   "source": [
    "def softmax(z):\n",
    "    z_max = np.max(z)\n",
    "    z_exp = np.exp(z - z_max)\n",
    "    sum_exp = np.sum(z_exp)\n",
    "    softmax_z = np.round(z_exp / sum_exp, 3)\n",
    "    return softmax_z"
   ]
  },
  {
   "cell_type": "markdown",
   "id": "ed470652",
   "metadata": {},
   "source": [
    "### iii) Forward Propagation"
   ]
  },
  {
   "cell_type": "code",
   "execution_count": 153,
   "id": "2d86a52d",
   "metadata": {},
   "outputs": [],
   "source": [
    "def forward_propagation(network,inp):\n",
    "    pre_activation = [] ## Z values\n",
    "    activation = [inp] ## A values, where inp is A0\n",
    "    for i in range(len(network)):\n",
    "        if(i!=len(network)-1):\n",
    "            pre_activation.append(np.dot(network[i][0],activation[i]) + network[i][1])\n",
    "            activation.append(ReLU(pre_activation[i]))\n",
    "            print(pre_activation[i].shape,activation[i+1].shape)\n",
    "        else:\n",
    "            pre_activation.append(np.dot(network[i][0],activation[i]) + network[i][1])\n",
    "            activation.append(softmax(pre_activation[i]))\n",
    "            print(pre_activation[i].shape,activation[i+1].shape)\n",
    "    return (pre_activation,activation)\n",
    "    "
   ]
  },
  {
   "cell_type": "code",
   "execution_count": 140,
   "id": "8f75dd91",
   "metadata": {},
   "outputs": [
    {
     "name": "stdout",
     "output_type": "stream",
     "text": [
      "(120, 1)\n"
     ]
    }
   ],
   "source": [
    "print(ReLU(np.random.rand(120,1)).shape)"
   ]
  },
  {
   "cell_type": "code",
   "execution_count": 155,
   "id": "ffd78265",
   "metadata": {},
   "outputs": [
    {
     "name": "stdout",
     "output_type": "stream",
     "text": [
      "(784,)\n",
      "pixel0    0.0\n",
      "pixel1    0.0\n",
      "pixel2    0.0\n",
      "pixel3    0.0\n",
      "pixel4    0.0\n",
      "Name: 1000, dtype: float64\n",
      "(120, 120) (120, 120)\n",
      "(45, 120) (45, 120)\n"
     ]
    },
    {
     "ename": "ValueError",
     "evalue": "shapes (10,45) and (784,) not aligned: 45 (dim 1) != 784 (dim 0)",
     "output_type": "error",
     "traceback": [
      "\u001b[0;31m---------------------------------------------------------------------------\u001b[0m",
      "\u001b[0;31mValueError\u001b[0m                                Traceback (most recent call last)",
      "Input \u001b[0;32mIn [155]\u001b[0m, in \u001b[0;36m<cell line: 5>\u001b[0;34m()\u001b[0m\n\u001b[1;32m      3\u001b[0m \u001b[38;5;28mprint\u001b[39m(inp\u001b[38;5;241m.\u001b[39mshape)\n\u001b[1;32m      4\u001b[0m \u001b[38;5;28mprint\u001b[39m(inp\u001b[38;5;241m.\u001b[39mhead())\n\u001b[0;32m----> 5\u001b[0m pre_activation,activation \u001b[38;5;241m=\u001b[39m \u001b[43mforward_propagation\u001b[49m\u001b[43m(\u001b[49m\u001b[43mnetwork\u001b[49m\u001b[43m,\u001b[49m\u001b[43minp\u001b[49m\u001b[43m)\u001b[49m\n\u001b[1;32m      6\u001b[0m \u001b[38;5;28mprint\u001b[39m(\u001b[38;5;28mlen\u001b[39m(activation))\n\u001b[1;32m      7\u001b[0m \u001b[38;5;28mprint\u001b[39m(pre_activation[\u001b[38;5;241m0\u001b[39m]\u001b[38;5;241m.\u001b[39mshape)\n",
      "Input \u001b[0;32mIn [153]\u001b[0m, in \u001b[0;36mforward_propagation\u001b[0;34m(network, inp)\u001b[0m\n\u001b[1;32m      8\u001b[0m     \u001b[38;5;28mprint\u001b[39m(pre_activation[i]\u001b[38;5;241m.\u001b[39mshape,activation[i\u001b[38;5;241m+\u001b[39m\u001b[38;5;241m1\u001b[39m]\u001b[38;5;241m.\u001b[39mshape)\n\u001b[1;32m      9\u001b[0m \u001b[38;5;28;01melse\u001b[39;00m:\n\u001b[0;32m---> 10\u001b[0m     pre_activation\u001b[38;5;241m.\u001b[39mappend(\u001b[43mnp\u001b[49m\u001b[38;5;241;43m.\u001b[39;49m\u001b[43mdot\u001b[49m\u001b[43m(\u001b[49m\u001b[43mnetwork\u001b[49m\u001b[43m[\u001b[49m\u001b[43mi\u001b[49m\u001b[43m]\u001b[49m\u001b[43m[\u001b[49m\u001b[38;5;241;43m0\u001b[39;49m\u001b[43m]\u001b[49m\u001b[43m,\u001b[49m\u001b[43minp\u001b[49m\u001b[43m)\u001b[49m \u001b[38;5;241m+\u001b[39m network[i][\u001b[38;5;241m1\u001b[39m])\n\u001b[1;32m     11\u001b[0m     activation\u001b[38;5;241m.\u001b[39mappend(softmax(pre_activation[i]))\n\u001b[1;32m     12\u001b[0m     \u001b[38;5;28mprint\u001b[39m(pre_activation[i]\u001b[38;5;241m.\u001b[39mshape,activation[i\u001b[38;5;241m+\u001b[39m\u001b[38;5;241m1\u001b[39m]\u001b[38;5;241m.\u001b[39mshape)\n",
      "File \u001b[0;32m<__array_function__ internals>:5\u001b[0m, in \u001b[0;36mdot\u001b[0;34m(*args, **kwargs)\u001b[0m\n",
      "\u001b[0;31mValueError\u001b[0m: shapes (10,45) and (784,) not aligned: 45 (dim 1) != 784 (dim 0)"
     ]
    }
   ],
   "source": [
    "# inp = np.random.rand(784,1)\n",
    "inp = X_train.iloc[0,:]\n",
    "print(inp.shape)\n",
    "print(inp.head())\n",
    "pre_activation,activation = forward_propagation(network,inp)\n",
    "print(len(activation))\n",
    "print(pre_activation[0].shape)\n",
    "print(activation[0].shape)\n",
    "print(activation[1].shape)\n",
    "print(activation[2].shape)\n",
    "print(activation[3].shape)"
   ]
  },
  {
   "cell_type": "code",
   "execution_count": 142,
   "id": "2aa6f2f3",
   "metadata": {},
   "outputs": [
    {
     "name": "stdout",
     "output_type": "stream",
     "text": [
      "[[0. 0. 0. ... 0. 0. 0.]\n",
      " [0. 0. 0. ... 0. 0. 0.]\n",
      " [0. 0. 0. ... 0. 0. 0.]\n",
      " ...\n",
      " [0. 0. 0. ... 0. 0. 0.]\n",
      " [0. 0. 0. ... 0. 0. 0.]\n",
      " [0. 0. 0. ... 0. 0. 0.]]\n"
     ]
    }
   ],
   "source": [
    "print(activation[3])"
   ]
  },
  {
   "cell_type": "markdown",
   "id": "4527068c",
   "metadata": {},
   "source": [
    "### iv) One-Hot Encoding"
   ]
  },
  {
   "cell_type": "code",
   "execution_count": 143,
   "id": "c052ebd0",
   "metadata": {},
   "outputs": [],
   "source": [
    "def one_hot(Y):\n",
    "    n_classes = 10  # We assume there are 10 possible classes (digits 0-9)\n",
    "    try:\n",
    "        m = len(Y)  # Number of examples\n",
    "    except TypeError:\n",
    "        m = 1       \n",
    "    \n",
    "    # Create an empty one-hot encoded array\n",
    "    one_hot_Y = np.zeros((n_classes, m))\n",
    "    \n",
    "    # Assign 1 to the corresponding index for each element in Y\n",
    "    try:\n",
    "        for i, y in enumerate(Y):\n",
    "            one_hot_Y[y, i] = 1\n",
    "    except TypeError:\n",
    "        one_hot_Y[Y] = 1\n",
    "    return one_hot_Y.T"
   ]
  },
  {
   "cell_type": "code",
   "execution_count": 144,
   "id": "ba0e065b",
   "metadata": {},
   "outputs": [
    {
     "data": {
      "text/plain": [
       "9"
      ]
     },
     "execution_count": 144,
     "metadata": {},
     "output_type": "execute_result"
    }
   ],
   "source": [
    "y_train.iloc[-1]"
   ]
  },
  {
   "cell_type": "code",
   "execution_count": 145,
   "id": "2bff0bf6",
   "metadata": {},
   "outputs": [
    {
     "data": {
      "text/plain": [
       "array([[0., 1., 0., ..., 0., 0., 0.],\n",
       "       [0., 0., 0., ..., 0., 0., 0.],\n",
       "       [0., 1., 0., ..., 0., 0., 0.],\n",
       "       ...,\n",
       "       [0., 0., 0., ..., 1., 0., 0.],\n",
       "       [0., 0., 0., ..., 0., 0., 0.],\n",
       "       [0., 0., 0., ..., 0., 0., 1.]])"
      ]
     },
     "execution_count": 145,
     "metadata": {},
     "output_type": "execute_result"
    }
   ],
   "source": [
    "y_train.shape\n",
    "one_hot(y_train)"
   ]
  },
  {
   "cell_type": "markdown",
   "id": "a9527527",
   "metadata": {},
   "source": [
    "## Part 2: Backward Propagation and Model Training"
   ]
  },
  {
   "cell_type": "markdown",
   "id": "08e170d3",
   "metadata": {},
   "source": [
    "### i) Backward Propagation"
   ]
  },
  {
   "cell_type": "code",
   "execution_count": 146,
   "id": "aed2709b",
   "metadata": {},
   "outputs": [],
   "source": [
    "def backward_propagation(pre_activation,activation,network,Y):\n",
    "    pre_activation_gradients = []\n",
    "    weight_gradients = []\n",
    "    bias_gradients = []\n",
    "    \n",
    "    for i in reversed(range(len(network))):\n",
    "        if(i!=len(network)-1):\n",
    "            pre_activation_gradients.insert(0,np.multiply(np.dot(network[i+1][0].T, pre_activation_gradients[0]), np.int64(activation[i+1] > 0)))\n",
    "            weight_gradients.insert(0,np.dot(pre_activation_gradients[0],activation[i].T))\n",
    "            bias_gradients.insert(0,np.sum(pre_activation_gradients[0], axis=1, keepdims=True))\n",
    "        else:\n",
    "            ## for the end element, which needs to be dealt with first.\n",
    "            pre_activation_gradients.insert(0,activation[i+1]-Y)\n",
    "            weight_gradients.insert(0,np.dot(pre_activation_gradients[0],activation[i].T))\n",
    "            bias_gradients.insert(0,np.sum(pre_activation_gradients[0], axis=1, keepdims=True))\n",
    "    return weight_gradients,bias_gradients"
   ]
  },
  {
   "cell_type": "code",
   "execution_count": 148,
   "id": "5abde4f1",
   "metadata": {},
   "outputs": [
    {
     "data": {
      "text/plain": [
       "(10, 120)"
      ]
     },
     "execution_count": 148,
     "metadata": {},
     "output_type": "execute_result"
    }
   ],
   "source": [
    "activation[3].shape"
   ]
  },
  {
   "cell_type": "markdown",
   "id": "8eece1ad",
   "metadata": {},
   "source": [
    "### ii) Update parameters"
   ]
  },
  {
   "cell_type": "code",
   "execution_count": 147,
   "id": "0b9efe38",
   "metadata": {},
   "outputs": [
    {
     "ename": "ValueError",
     "evalue": "operands could not be broadcast together with shapes (10,120) (1,10) ",
     "output_type": "error",
     "traceback": [
      "\u001b[0;31m---------------------------------------------------------------------------\u001b[0m",
      "\u001b[0;31mValueError\u001b[0m                                Traceback (most recent call last)",
      "Input \u001b[0;32mIn [147]\u001b[0m, in \u001b[0;36m<cell line: 1>\u001b[0;34m()\u001b[0m\n\u001b[0;32m----> 1\u001b[0m weight_gradients,bias_gradients \u001b[38;5;241m=\u001b[39m \u001b[43mbackward_propagation\u001b[49m\u001b[43m(\u001b[49m\u001b[43mpre_activation\u001b[49m\u001b[43m,\u001b[49m\u001b[43mactivation\u001b[49m\u001b[43m,\u001b[49m\u001b[43mnetwork\u001b[49m\u001b[43m,\u001b[49m\u001b[43mY\u001b[49m\u001b[43m \u001b[49m\u001b[38;5;241;43m=\u001b[39;49m\u001b[43m \u001b[49m\u001b[43mone_hot\u001b[49m\u001b[43m(\u001b[49m\u001b[43my_train\u001b[49m\u001b[38;5;241;43m.\u001b[39;49m\u001b[43miloc\u001b[49m\u001b[43m[\u001b[49m\u001b[38;5;241;43m0\u001b[39;49m\u001b[43m]\u001b[49m\u001b[43m)\u001b[49m\u001b[43m)\u001b[49m\n\u001b[1;32m      2\u001b[0m \u001b[38;5;28mprint\u001b[39m(\u001b[38;5;28mlen\u001b[39m(weight_gradients),\u001b[38;5;28mlen\u001b[39m(bias_gradients))\n",
      "Input \u001b[0;32mIn [146]\u001b[0m, in \u001b[0;36mbackward_propagation\u001b[0;34m(pre_activation, activation, network, Y)\u001b[0m\n\u001b[1;32m     10\u001b[0m     bias_gradients\u001b[38;5;241m.\u001b[39minsert(\u001b[38;5;241m0\u001b[39m,np\u001b[38;5;241m.\u001b[39msum(pre_activation_gradients[\u001b[38;5;241m0\u001b[39m], axis\u001b[38;5;241m=\u001b[39m\u001b[38;5;241m1\u001b[39m, keepdims\u001b[38;5;241m=\u001b[39m\u001b[38;5;28;01mTrue\u001b[39;00m))\n\u001b[1;32m     11\u001b[0m \u001b[38;5;28;01melse\u001b[39;00m:\n\u001b[1;32m     12\u001b[0m     \u001b[38;5;66;03m## for the end element, which needs to be dealt with first.\u001b[39;00m\n\u001b[0;32m---> 13\u001b[0m     pre_activation_gradients\u001b[38;5;241m.\u001b[39minsert(\u001b[38;5;241m0\u001b[39m,\u001b[43mactivation\u001b[49m\u001b[43m[\u001b[49m\u001b[43mi\u001b[49m\u001b[38;5;241;43m+\u001b[39;49m\u001b[38;5;241;43m1\u001b[39;49m\u001b[43m]\u001b[49m\u001b[38;5;241;43m-\u001b[39;49m\u001b[43mY\u001b[49m)\n\u001b[1;32m     14\u001b[0m     weight_gradients\u001b[38;5;241m.\u001b[39minsert(\u001b[38;5;241m0\u001b[39m,np\u001b[38;5;241m.\u001b[39mdot(pre_activation_gradients[\u001b[38;5;241m0\u001b[39m],activation[i]\u001b[38;5;241m.\u001b[39mT))\n\u001b[1;32m     15\u001b[0m     bias_gradients\u001b[38;5;241m.\u001b[39minsert(\u001b[38;5;241m0\u001b[39m,np\u001b[38;5;241m.\u001b[39msum(pre_activation_gradients[\u001b[38;5;241m0\u001b[39m], axis\u001b[38;5;241m=\u001b[39m\u001b[38;5;241m1\u001b[39m, keepdims\u001b[38;5;241m=\u001b[39m\u001b[38;5;28;01mTrue\u001b[39;00m))\n",
      "\u001b[0;31mValueError\u001b[0m: operands could not be broadcast together with shapes (10,120) (1,10) "
     ]
    }
   ],
   "source": [
    "weight_gradients,bias_gradients = backward_propagation(pre_activation,activation,network,Y = one_hot(y_train.iloc[0]))\n",
    "print(len(weight_gradients),len(bias_gradients))"
   ]
  },
  {
   "cell_type": "code",
   "execution_count": null,
   "id": "f205c793",
   "metadata": {},
   "outputs": [],
   "source": [
    "def update_params(network,weight_gradients,bias_gradients,alpha):\n",
    "    for layer in range(len(network)):\n",
    "        network[layer][0] -= weight_gradients[layer]*alpha\n",
    "        network[layer][1] -= bias_gradients[layer]*alpha\n",
    "        "
   ]
  }
 ],
 "metadata": {
  "kernelspec": {
   "display_name": "Python 3 (ipykernel)",
   "language": "python",
   "name": "python3"
  },
  "language_info": {
   "codemirror_mode": {
    "name": "ipython",
    "version": 3
   },
   "file_extension": ".py",
   "mimetype": "text/x-python",
   "name": "python",
   "nbconvert_exporter": "python",
   "pygments_lexer": "ipython3",
   "version": "3.9.12"
  }
 },
 "nbformat": 4,
 "nbformat_minor": 5
}
