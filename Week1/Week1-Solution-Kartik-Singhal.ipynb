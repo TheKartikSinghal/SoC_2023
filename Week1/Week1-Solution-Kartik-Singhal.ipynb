{
 "cells": [
  {
   "cell_type": "markdown",
   "id": "f8485de2",
   "metadata": {},
   "source": [
    "# Part One"
   ]
  },
  {
   "cell_type": "markdown",
   "id": "853c2945",
   "metadata": {},
   "source": [
    "Question 3"
   ]
  },
  {
   "cell_type": "code",
   "execution_count": 1,
   "id": "b26ec679",
   "metadata": {},
   "outputs": [],
   "source": [
    "import numpy as np\n",
    "from scipy import stats as st"
   ]
  },
  {
   "cell_type": "code",
   "execution_count": 2,
   "id": "623d3e0f",
   "metadata": {},
   "outputs": [],
   "source": [
    "arr = np.random.uniform(0,100,[100,1])"
   ]
  },
  {
   "cell_type": "code",
   "execution_count": 3,
   "id": "1d7077ca",
   "metadata": {},
   "outputs": [],
   "source": [
    "arr = arr.astype(int)"
   ]
  },
  {
   "cell_type": "code",
   "execution_count": 4,
   "id": "d5b9e309",
   "metadata": {},
   "outputs": [
    {
     "name": "stdout",
     "output_type": "stream",
     "text": [
      "53.85\n"
     ]
    }
   ],
   "source": [
    "meanvalue = np.mean(arr)\n",
    "print(meanvalue)"
   ]
  },
  {
   "cell_type": "code",
   "execution_count": 5,
   "id": "628f6cb3",
   "metadata": {},
   "outputs": [
    {
     "name": "stdout",
     "output_type": "stream",
     "text": [
      "ModeResult(mode=array([[24]]), count=array([[3]]))\n"
     ]
    }
   ],
   "source": [
    "modevalue = st.mode(arr)\n",
    "print (modevalue)"
   ]
  },
  {
   "cell_type": "code",
   "execution_count": 6,
   "id": "9e0558ba",
   "metadata": {},
   "outputs": [
    {
     "name": "stdout",
     "output_type": "stream",
     "text": [
      "843.1275\n"
     ]
    }
   ],
   "source": [
    "var = np.var(arr)\n",
    "print(var)"
   ]
  },
  {
   "cell_type": "code",
   "execution_count": 7,
   "id": "d82922af",
   "metadata": {},
   "outputs": [
    {
     "name": "stdout",
     "output_type": "stream",
     "text": [
      "55.0\n"
     ]
    }
   ],
   "source": [
    "iqr = st.iqr(arr)\n",
    "print(iqr)"
   ]
  },
  {
   "cell_type": "markdown",
   "id": "22ce43ea",
   "metadata": {},
   "source": [
    "# Part 2"
   ]
  },
  {
   "cell_type": "markdown",
   "id": "846db96b",
   "metadata": {},
   "source": [
    "### Question 1"
   ]
  },
  {
   "cell_type": "code",
   "execution_count": 8,
   "id": "2c8d4821",
   "metadata": {},
   "outputs": [],
   "source": [
    "class array1():\n",
    "    def __init__(self):\n",
    "        self.array = []\n",
    "    def get_array(self,length):\n",
    "        for _ in range(length):\n",
    "            element=int(input())\n",
    "            self.array.append(element)\n",
    "        self.array.sort()\n",
    "        return self.array"
   ]
  },
  {
   "cell_type": "code",
   "execution_count": 9,
   "id": "99bed487",
   "metadata": {},
   "outputs": [],
   "source": [
    "mynums = array1()"
   ]
  },
  {
   "cell_type": "code",
   "execution_count": 10,
   "id": "cac09b29",
   "metadata": {},
   "outputs": [
    {
     "name": "stdout",
     "output_type": "stream",
     "text": [
      "3\n",
      "1\n"
     ]
    }
   ],
   "source": [
    "sorted = mynums.get_array(length=2)\n"
   ]
  },
  {
   "cell_type": "code",
   "execution_count": 11,
   "id": "19393fae",
   "metadata": {},
   "outputs": [
    {
     "name": "stdout",
     "output_type": "stream",
     "text": [
      "[1, 3]\n"
     ]
    }
   ],
   "source": [
    "print(sorted)"
   ]
  },
  {
   "cell_type": "markdown",
   "id": "096e2ccc",
   "metadata": {},
   "source": [
    "### Question 2"
   ]
  },
  {
   "cell_type": "markdown",
   "id": "6c29f674",
   "metadata": {},
   "source": [
    "#### Using basic python"
   ]
  },
  {
   "cell_type": "code",
   "execution_count": 12,
   "id": "6a6edf21",
   "metadata": {},
   "outputs": [],
   "source": [
    "matrix = [[1,2,3,4],\n",
    "          [5,6,7,8],\n",
    "          [9,10,11,12],\n",
    "          [13,14,15,16]]"
   ]
  },
  {
   "cell_type": "code",
   "execution_count": 13,
   "id": "78a1ed25",
   "metadata": {},
   "outputs": [
    {
     "name": "stdout",
     "output_type": "stream",
     "text": [
      "4\n"
     ]
    }
   ],
   "source": [
    "print(len(matrix))"
   ]
  },
  {
   "cell_type": "code",
   "execution_count": 14,
   "id": "376a63a2",
   "metadata": {},
   "outputs": [
    {
     "name": "stdout",
     "output_type": "stream",
     "text": [
      "1\n",
      "6\n",
      "11\n",
      "16\n"
     ]
    }
   ],
   "source": [
    "for _ in range(len(matrix)):\n",
    "    print(matrix[_][_])"
   ]
  },
  {
   "cell_type": "code",
   "execution_count": 15,
   "id": "cd886474",
   "metadata": {},
   "outputs": [
    {
     "name": "stdout",
     "output_type": "stream",
     "text": [
      "34\n"
     ]
    }
   ],
   "source": [
    "temp = 0\n",
    "for _ in range(len(matrix)):\n",
    "    temp+= matrix[_][_]\n",
    "print(temp)"
   ]
  },
  {
   "cell_type": "code",
   "execution_count": 16,
   "id": "ffdbfb1f",
   "metadata": {},
   "outputs": [
    {
     "name": "stdout",
     "output_type": "stream",
     "text": [
      "4 1\n",
      "8 5\n",
      "12 9\n",
      "16 13\n"
     ]
    }
   ],
   "source": [
    "for _ in range(len(matrix)):\n",
    "    print(max(matrix[_]),min(matrix[_])) \n",
    "    "
   ]
  },
  {
   "cell_type": "markdown",
   "id": "391d3d69",
   "metadata": {},
   "source": [
    "#### Using numpy array functions"
   ]
  },
  {
   "cell_type": "code",
   "execution_count": 17,
   "id": "012d5257",
   "metadata": {},
   "outputs": [
    {
     "name": "stdout",
     "output_type": "stream",
     "text": [
      "[ 1  6 11 16]\n"
     ]
    }
   ],
   "source": [
    "mat = np.array(matrix)\n",
    "print(np.diagonal(mat))"
   ]
  },
  {
   "cell_type": "code",
   "execution_count": 18,
   "id": "86bff66b",
   "metadata": {},
   "outputs": [
    {
     "name": "stdout",
     "output_type": "stream",
     "text": [
      "34\n"
     ]
    }
   ],
   "source": [
    "print(np.trace(mat))"
   ]
  },
  {
   "cell_type": "code",
   "execution_count": 19,
   "id": "32d8a178",
   "metadata": {},
   "outputs": [
    {
     "name": "stdout",
     "output_type": "stream",
     "text": [
      "4 1\n",
      "8 5\n",
      "12 9\n",
      "16 13\n"
     ]
    }
   ],
   "source": [
    "for _ in range(len(mat)):\n",
    "    print(max(mat[_]),min(mat[_]))"
   ]
  },
  {
   "cell_type": "code",
   "execution_count": 20,
   "id": "74a05159",
   "metadata": {},
   "outputs": [
    {
     "name": "stdout",
     "output_type": "stream",
     "text": [
      "[[0.39228397 0.76666585 0.79390727 0.28988453]\n",
      " [0.96468159 0.10135732 0.14465386 0.03232322]\n",
      " [0.04365785 0.09381241 0.41580378 0.04356559]\n",
      " [0.07298805 0.58366126 0.8386657  0.56727443]]\n"
     ]
    }
   ],
   "source": [
    "matA = np.random.rand(4,4)\n",
    "print(matA)"
   ]
  },
  {
   "cell_type": "code",
   "execution_count": 21,
   "id": "71a62e30",
   "metadata": {},
   "outputs": [
    {
     "name": "stdout",
     "output_type": "stream",
     "text": [
      "[[0.96505519 0.82870364 0.41106942 0.71877205]\n",
      " [0.53947891 0.63322341 0.08906715 0.88346192]\n",
      " [0.67818745 0.20722128 0.38837401 0.12194974]\n",
      " [0.1564293  0.73373682 0.81446629 0.79093283]]\n"
     ]
    }
   ],
   "source": [
    "matB = np.random.uniform(0,1,[4,4])\n",
    "print(matB)"
   ]
  },
  {
   "cell_type": "code",
   "execution_count": 22,
   "id": "0a83179e",
   "metadata": {},
   "outputs": [
    {
     "data": {
      "text/plain": [
       "array([[1.37594011, 1.18777135, 0.77397482, 1.28537881],\n",
       "       [1.08880985, 0.91730907, 0.48808469, 0.82613749],\n",
       "       [0.3815499 , 0.2137127 , 0.2232721 , 0.19942435],\n",
       "       [1.04282134, 1.02009295, 0.86973006, 1.1190553 ]])"
      ]
     },
     "execution_count": 22,
     "metadata": {},
     "output_type": "execute_result"
    }
   ],
   "source": [
    "np.dot(matA,matB)"
   ]
  },
  {
   "cell_type": "code",
   "execution_count": 23,
   "id": "04dac7ae",
   "metadata": {},
   "outputs": [
    {
     "data": {
      "text/plain": [
       "array([[1.24841901, 1.28195285, 1.6597732 , 0.73219043],\n",
       "       [0.89085854, 1.00177998, 1.2978581 , 0.68190002],\n",
       "       [0.49180106, 0.64855819, 0.83215575, 0.28939282],\n",
       "       [0.86247361, 0.7323425 , 1.23231462, 0.55322184]])"
      ]
     },
     "execution_count": 23,
     "metadata": {},
     "output_type": "execute_result"
    }
   ],
   "source": [
    "np.dot(matB,matA)"
   ]
  },
  {
   "cell_type": "markdown",
   "id": "a54979ca",
   "metadata": {},
   "source": [
    "### Question 3"
   ]
  },
  {
   "cell_type": "code",
   "execution_count": 24,
   "id": "c6bcf792",
   "metadata": {},
   "outputs": [],
   "source": [
    "import pandas as pd"
   ]
  },
  {
   "cell_type": "code",
   "execution_count": 25,
   "id": "e7bcc487",
   "metadata": {},
   "outputs": [],
   "source": [
    "df = pd.read_csv(\"Data - STOCK_US_XNYS_CSV.csv\")"
   ]
  },
  {
   "cell_type": "code",
   "execution_count": 26,
   "id": "fe6bc186",
   "metadata": {},
   "outputs": [
    {
     "data": {
      "text/html": [
       "<div>\n",
       "<style scoped>\n",
       "    .dataframe tbody tr th:only-of-type {\n",
       "        vertical-align: middle;\n",
       "    }\n",
       "\n",
       "    .dataframe tbody tr th {\n",
       "        vertical-align: top;\n",
       "    }\n",
       "\n",
       "    .dataframe thead th {\n",
       "        text-align: right;\n",
       "    }\n",
       "</style>\n",
       "<table border=\"1\" class=\"dataframe\">\n",
       "  <thead>\n",
       "    <tr style=\"text-align: right;\">\n",
       "      <th></th>\n",
       "      <th>Date</th>\n",
       "      <th>Open</th>\n",
       "      <th>High</th>\n",
       "      <th>Low</th>\n",
       "      <th>Close</th>\n",
       "      <th>Volume</th>\n",
       "    </tr>\n",
       "  </thead>\n",
       "  <tbody>\n",
       "    <tr>\n",
       "      <th>0</th>\n",
       "      <td>05/05/2023</td>\n",
       "      <td>26.93</td>\n",
       "      <td>27.71</td>\n",
       "      <td>26.59</td>\n",
       "      <td>27.59</td>\n",
       "      <td>146,854</td>\n",
       "    </tr>\n",
       "    <tr>\n",
       "      <th>1</th>\n",
       "      <td>05/04/2023</td>\n",
       "      <td>29.17</td>\n",
       "      <td>29.17</td>\n",
       "      <td>26.12</td>\n",
       "      <td>26.74</td>\n",
       "      <td>187,882</td>\n",
       "    </tr>\n",
       "    <tr>\n",
       "      <th>2</th>\n",
       "      <td>05/03/2023</td>\n",
       "      <td>29.00</td>\n",
       "      <td>29.36</td>\n",
       "      <td>27.83</td>\n",
       "      <td>28.09</td>\n",
       "      <td>138,729</td>\n",
       "    </tr>\n",
       "    <tr>\n",
       "      <th>3</th>\n",
       "      <td>05/02/2023</td>\n",
       "      <td>29.39</td>\n",
       "      <td>29.39</td>\n",
       "      <td>28.47</td>\n",
       "      <td>28.96</td>\n",
       "      <td>132,896</td>\n",
       "    </tr>\n",
       "    <tr>\n",
       "      <th>4</th>\n",
       "      <td>05/01/2023</td>\n",
       "      <td>28.80</td>\n",
       "      <td>29.74</td>\n",
       "      <td>28.80</td>\n",
       "      <td>29.69</td>\n",
       "      <td>58,964</td>\n",
       "    </tr>\n",
       "    <tr>\n",
       "      <th>...</th>\n",
       "      <td>...</td>\n",
       "      <td>...</td>\n",
       "      <td>...</td>\n",
       "      <td>...</td>\n",
       "      <td>...</td>\n",
       "      <td>...</td>\n",
       "    </tr>\n",
       "    <tr>\n",
       "      <th>247</th>\n",
       "      <td>05/11/2022</td>\n",
       "      <td>39.59</td>\n",
       "      <td>40.70</td>\n",
       "      <td>38.90</td>\n",
       "      <td>38.99</td>\n",
       "      <td>212,540</td>\n",
       "    </tr>\n",
       "    <tr>\n",
       "      <th>248</th>\n",
       "      <td>05/10/2022</td>\n",
       "      <td>40.23</td>\n",
       "      <td>40.97</td>\n",
       "      <td>39.15</td>\n",
       "      <td>39.29</td>\n",
       "      <td>263,363</td>\n",
       "    </tr>\n",
       "    <tr>\n",
       "      <th>249</th>\n",
       "      <td>05/09/2022</td>\n",
       "      <td>40.67</td>\n",
       "      <td>40.80</td>\n",
       "      <td>39.50</td>\n",
       "      <td>40.07</td>\n",
       "      <td>171,351</td>\n",
       "    </tr>\n",
       "    <tr>\n",
       "      <th>250</th>\n",
       "      <td>05/06/2022</td>\n",
       "      <td>41.33</td>\n",
       "      <td>41.53</td>\n",
       "      <td>40.22</td>\n",
       "      <td>41.30</td>\n",
       "      <td>112,366</td>\n",
       "    </tr>\n",
       "    <tr>\n",
       "      <th>251</th>\n",
       "      <td>05/05/2022</td>\n",
       "      <td>42.81</td>\n",
       "      <td>42.95</td>\n",
       "      <td>40.88</td>\n",
       "      <td>41.49</td>\n",
       "      <td>85,554</td>\n",
       "    </tr>\n",
       "  </tbody>\n",
       "</table>\n",
       "<p>252 rows × 6 columns</p>\n",
       "</div>"
      ],
      "text/plain": [
       "           Date   Open   High    Low  Close   Volume\n",
       "0    05/05/2023  26.93  27.71  26.59  27.59  146,854\n",
       "1    05/04/2023  29.17  29.17  26.12  26.74  187,882\n",
       "2    05/03/2023  29.00  29.36  27.83  28.09  138,729\n",
       "3    05/02/2023  29.39  29.39  28.47  28.96  132,896\n",
       "4    05/01/2023  28.80  29.74  28.80  29.69   58,964\n",
       "..          ...    ...    ...    ...    ...      ...\n",
       "247  05/11/2022  39.59  40.70  38.90  38.99  212,540\n",
       "248  05/10/2022  40.23  40.97  39.15  39.29  263,363\n",
       "249  05/09/2022  40.67  40.80  39.50  40.07  171,351\n",
       "250  05/06/2022  41.33  41.53  40.22  41.30  112,366\n",
       "251  05/05/2022  42.81  42.95  40.88  41.49   85,554\n",
       "\n",
       "[252 rows x 6 columns]"
      ]
     },
     "execution_count": 26,
     "metadata": {},
     "output_type": "execute_result"
    }
   ],
   "source": [
    "df"
   ]
  },
  {
   "cell_type": "code",
   "execution_count": 27,
   "id": "dcd938ae",
   "metadata": {},
   "outputs": [
    {
     "data": {
      "text/html": [
       "<div>\n",
       "<style scoped>\n",
       "    .dataframe tbody tr th:only-of-type {\n",
       "        vertical-align: middle;\n",
       "    }\n",
       "\n",
       "    .dataframe tbody tr th {\n",
       "        vertical-align: top;\n",
       "    }\n",
       "\n",
       "    .dataframe thead th {\n",
       "        text-align: right;\n",
       "    }\n",
       "</style>\n",
       "<table border=\"1\" class=\"dataframe\">\n",
       "  <thead>\n",
       "    <tr style=\"text-align: right;\">\n",
       "      <th></th>\n",
       "      <th>Open</th>\n",
       "      <th>High</th>\n",
       "      <th>Low</th>\n",
       "      <th>Close</th>\n",
       "    </tr>\n",
       "  </thead>\n",
       "  <tbody>\n",
       "    <tr>\n",
       "      <th>count</th>\n",
       "      <td>252.000000</td>\n",
       "      <td>252.000000</td>\n",
       "      <td>252.000000</td>\n",
       "      <td>252.000000</td>\n",
       "    </tr>\n",
       "    <tr>\n",
       "      <th>mean</th>\n",
       "      <td>32.948730</td>\n",
       "      <td>33.469008</td>\n",
       "      <td>32.348056</td>\n",
       "      <td>32.905437</td>\n",
       "    </tr>\n",
       "    <tr>\n",
       "      <th>std</th>\n",
       "      <td>5.298971</td>\n",
       "      <td>5.356194</td>\n",
       "      <td>5.267418</td>\n",
       "      <td>5.333756</td>\n",
       "    </tr>\n",
       "    <tr>\n",
       "      <th>min</th>\n",
       "      <td>23.580000</td>\n",
       "      <td>24.050000</td>\n",
       "      <td>22.710000</td>\n",
       "      <td>23.400000</td>\n",
       "    </tr>\n",
       "    <tr>\n",
       "      <th>25%</th>\n",
       "      <td>28.937500</td>\n",
       "      <td>29.207500</td>\n",
       "      <td>28.500000</td>\n",
       "      <td>28.855000</td>\n",
       "    </tr>\n",
       "    <tr>\n",
       "      <th>50%</th>\n",
       "      <td>32.360000</td>\n",
       "      <td>32.895000</td>\n",
       "      <td>31.770000</td>\n",
       "      <td>32.400000</td>\n",
       "    </tr>\n",
       "    <tr>\n",
       "      <th>75%</th>\n",
       "      <td>38.007500</td>\n",
       "      <td>38.847500</td>\n",
       "      <td>37.195000</td>\n",
       "      <td>37.942500</td>\n",
       "    </tr>\n",
       "    <tr>\n",
       "      <th>max</th>\n",
       "      <td>44.060000</td>\n",
       "      <td>44.520000</td>\n",
       "      <td>43.220000</td>\n",
       "      <td>44.050000</td>\n",
       "    </tr>\n",
       "  </tbody>\n",
       "</table>\n",
       "</div>"
      ],
      "text/plain": [
       "             Open        High         Low       Close\n",
       "count  252.000000  252.000000  252.000000  252.000000\n",
       "mean    32.948730   33.469008   32.348056   32.905437\n",
       "std      5.298971    5.356194    5.267418    5.333756\n",
       "min     23.580000   24.050000   22.710000   23.400000\n",
       "25%     28.937500   29.207500   28.500000   28.855000\n",
       "50%     32.360000   32.895000   31.770000   32.400000\n",
       "75%     38.007500   38.847500   37.195000   37.942500\n",
       "max     44.060000   44.520000   43.220000   44.050000"
      ]
     },
     "execution_count": 27,
     "metadata": {},
     "output_type": "execute_result"
    }
   ],
   "source": [
    "df.describe()"
   ]
  },
  {
   "cell_type": "code",
   "execution_count": 28,
   "id": "992ea84d",
   "metadata": {},
   "outputs": [
    {
     "data": {
      "text/plain": [
       "Date  Date\n",
       "2022  5       39.631111\n",
       "      6       39.171429\n",
       "      7       40.386000\n",
       "      8       38.048696\n",
       "      9       33.766667\n",
       "      10      30.941429\n",
       "      11      24.519524\n",
       "      12      26.083810\n",
       "2023  1       30.363000\n",
       "      2       32.954211\n",
       "      3       31.898696\n",
       "      4       28.615789\n",
       "      5       28.214000\n",
       "Name: Close, dtype: float64"
      ]
     },
     "execution_count": 28,
     "metadata": {},
     "output_type": "execute_result"
    }
   ],
   "source": [
    "df.Date = pd.to_datetime(df.Date)\n",
    "df\n",
    "df.groupby([df.Date.dt.year,df.Date.dt.month])['Close'].mean()\n"
   ]
  },
  {
   "cell_type": "markdown",
   "id": "dea0b28f",
   "metadata": {},
   "source": [
    "# Part 3"
   ]
  },
  {
   "cell_type": "code",
   "execution_count": 29,
   "id": "c7db3dc5",
   "metadata": {},
   "outputs": [],
   "source": [
    "average = df['Close'].rolling(30).mean()"
   ]
  },
  {
   "cell_type": "code",
   "execution_count": 30,
   "id": "d1748ee3",
   "metadata": {},
   "outputs": [
    {
     "data": {
      "text/plain": [
       "0            NaN\n",
       "1            NaN\n",
       "2            NaN\n",
       "3            NaN\n",
       "4            NaN\n",
       "         ...    \n",
       "247    39.220000\n",
       "248    39.277667\n",
       "249    39.384000\n",
       "250    39.502667\n",
       "251    39.697667\n",
       "Name: Close, Length: 252, dtype: float64"
      ]
     },
     "execution_count": 30,
     "metadata": {},
     "output_type": "execute_result"
    }
   ],
   "source": [
    "average"
   ]
  },
  {
   "cell_type": "code",
   "execution_count": 31,
   "id": "33a1a61c",
   "metadata": {},
   "outputs": [],
   "source": [
    "df['MovAvg'] = average"
   ]
  },
  {
   "cell_type": "code",
   "execution_count": 32,
   "id": "6d771fba",
   "metadata": {},
   "outputs": [
    {
     "data": {
      "text/html": [
       "<div>\n",
       "<style scoped>\n",
       "    .dataframe tbody tr th:only-of-type {\n",
       "        vertical-align: middle;\n",
       "    }\n",
       "\n",
       "    .dataframe tbody tr th {\n",
       "        vertical-align: top;\n",
       "    }\n",
       "\n",
       "    .dataframe thead th {\n",
       "        text-align: right;\n",
       "    }\n",
       "</style>\n",
       "<table border=\"1\" class=\"dataframe\">\n",
       "  <thead>\n",
       "    <tr style=\"text-align: right;\">\n",
       "      <th></th>\n",
       "      <th>Date</th>\n",
       "      <th>Open</th>\n",
       "      <th>High</th>\n",
       "      <th>Low</th>\n",
       "      <th>Close</th>\n",
       "      <th>Volume</th>\n",
       "      <th>MovAvg</th>\n",
       "    </tr>\n",
       "  </thead>\n",
       "  <tbody>\n",
       "    <tr>\n",
       "      <th>0</th>\n",
       "      <td>2023-05-05</td>\n",
       "      <td>26.93</td>\n",
       "      <td>27.71</td>\n",
       "      <td>26.59</td>\n",
       "      <td>27.59</td>\n",
       "      <td>146,854</td>\n",
       "      <td>NaN</td>\n",
       "    </tr>\n",
       "    <tr>\n",
       "      <th>1</th>\n",
       "      <td>2023-05-04</td>\n",
       "      <td>29.17</td>\n",
       "      <td>29.17</td>\n",
       "      <td>26.12</td>\n",
       "      <td>26.74</td>\n",
       "      <td>187,882</td>\n",
       "      <td>NaN</td>\n",
       "    </tr>\n",
       "    <tr>\n",
       "      <th>2</th>\n",
       "      <td>2023-05-03</td>\n",
       "      <td>29.00</td>\n",
       "      <td>29.36</td>\n",
       "      <td>27.83</td>\n",
       "      <td>28.09</td>\n",
       "      <td>138,729</td>\n",
       "      <td>NaN</td>\n",
       "    </tr>\n",
       "    <tr>\n",
       "      <th>3</th>\n",
       "      <td>2023-05-02</td>\n",
       "      <td>29.39</td>\n",
       "      <td>29.39</td>\n",
       "      <td>28.47</td>\n",
       "      <td>28.96</td>\n",
       "      <td>132,896</td>\n",
       "      <td>NaN</td>\n",
       "    </tr>\n",
       "    <tr>\n",
       "      <th>4</th>\n",
       "      <td>2023-05-01</td>\n",
       "      <td>28.80</td>\n",
       "      <td>29.74</td>\n",
       "      <td>28.80</td>\n",
       "      <td>29.69</td>\n",
       "      <td>58,964</td>\n",
       "      <td>NaN</td>\n",
       "    </tr>\n",
       "    <tr>\n",
       "      <th>...</th>\n",
       "      <td>...</td>\n",
       "      <td>...</td>\n",
       "      <td>...</td>\n",
       "      <td>...</td>\n",
       "      <td>...</td>\n",
       "      <td>...</td>\n",
       "      <td>...</td>\n",
       "    </tr>\n",
       "    <tr>\n",
       "      <th>247</th>\n",
       "      <td>2022-05-11</td>\n",
       "      <td>39.59</td>\n",
       "      <td>40.70</td>\n",
       "      <td>38.90</td>\n",
       "      <td>38.99</td>\n",
       "      <td>212,540</td>\n",
       "      <td>39.220000</td>\n",
       "    </tr>\n",
       "    <tr>\n",
       "      <th>248</th>\n",
       "      <td>2022-05-10</td>\n",
       "      <td>40.23</td>\n",
       "      <td>40.97</td>\n",
       "      <td>39.15</td>\n",
       "      <td>39.29</td>\n",
       "      <td>263,363</td>\n",
       "      <td>39.277667</td>\n",
       "    </tr>\n",
       "    <tr>\n",
       "      <th>249</th>\n",
       "      <td>2022-05-09</td>\n",
       "      <td>40.67</td>\n",
       "      <td>40.80</td>\n",
       "      <td>39.50</td>\n",
       "      <td>40.07</td>\n",
       "      <td>171,351</td>\n",
       "      <td>39.384000</td>\n",
       "    </tr>\n",
       "    <tr>\n",
       "      <th>250</th>\n",
       "      <td>2022-05-06</td>\n",
       "      <td>41.33</td>\n",
       "      <td>41.53</td>\n",
       "      <td>40.22</td>\n",
       "      <td>41.30</td>\n",
       "      <td>112,366</td>\n",
       "      <td>39.502667</td>\n",
       "    </tr>\n",
       "    <tr>\n",
       "      <th>251</th>\n",
       "      <td>2022-05-05</td>\n",
       "      <td>42.81</td>\n",
       "      <td>42.95</td>\n",
       "      <td>40.88</td>\n",
       "      <td>41.49</td>\n",
       "      <td>85,554</td>\n",
       "      <td>39.697667</td>\n",
       "    </tr>\n",
       "  </tbody>\n",
       "</table>\n",
       "<p>252 rows × 7 columns</p>\n",
       "</div>"
      ],
      "text/plain": [
       "          Date   Open   High    Low  Close   Volume     MovAvg\n",
       "0   2023-05-05  26.93  27.71  26.59  27.59  146,854        NaN\n",
       "1   2023-05-04  29.17  29.17  26.12  26.74  187,882        NaN\n",
       "2   2023-05-03  29.00  29.36  27.83  28.09  138,729        NaN\n",
       "3   2023-05-02  29.39  29.39  28.47  28.96  132,896        NaN\n",
       "4   2023-05-01  28.80  29.74  28.80  29.69   58,964        NaN\n",
       "..         ...    ...    ...    ...    ...      ...        ...\n",
       "247 2022-05-11  39.59  40.70  38.90  38.99  212,540  39.220000\n",
       "248 2022-05-10  40.23  40.97  39.15  39.29  263,363  39.277667\n",
       "249 2022-05-09  40.67  40.80  39.50  40.07  171,351  39.384000\n",
       "250 2022-05-06  41.33  41.53  40.22  41.30  112,366  39.502667\n",
       "251 2022-05-05  42.81  42.95  40.88  41.49   85,554  39.697667\n",
       "\n",
       "[252 rows x 7 columns]"
      ]
     },
     "execution_count": 32,
     "metadata": {},
     "output_type": "execute_result"
    }
   ],
   "source": [
    "df"
   ]
  },
  {
   "cell_type": "markdown",
   "id": "d24cbd44",
   "metadata": {},
   "source": [
    "print the dates and closing\n",
    "prices for the days on which the rolling average exceeded the closing price by more\n",
    "than 5%, sorted by date in ascending order."
   ]
  },
  {
   "cell_type": "code",
   "execution_count": 33,
   "id": "32007a1a",
   "metadata": {},
   "outputs": [
    {
     "name": "stdout",
     "output_type": "stream",
     "text": [
      "[[Timestamp('2023-02-09 00:00:00'), 30.68], [Timestamp('2023-01-30 00:00:00'), 31.1], [Timestamp('2023-01-27 00:00:00'), 31.29], [Timestamp('2023-01-25 00:00:00'), 30.85], [Timestamp('2023-01-24 00:00:00'), 30.85], [Timestamp('2023-01-23 00:00:00'), 30.65], [Timestamp('2023-01-20 00:00:00'), 30.57], [Timestamp('2023-01-19 00:00:00'), 30.37], [Timestamp('2023-01-18 00:00:00'), 30.11], [Timestamp('2023-01-17 00:00:00'), 30.56], [Timestamp('2023-01-13 00:00:00'), 30.27], [Timestamp('2023-01-12 00:00:00'), 30.21], [Timestamp('2023-01-09 00:00:00'), 29.27], [Timestamp('2023-01-05 00:00:00'), 28.94], [Timestamp('2023-01-04 00:00:00'), 29.13], [Timestamp('2023-01-03 00:00:00'), 28.56], [Timestamp('2022-12-30 00:00:00'), 27.54], [Timestamp('2022-12-29 00:00:00'), 27.63], [Timestamp('2022-12-28 00:00:00'), 27.2], [Timestamp('2022-12-27 00:00:00'), 27.14], [Timestamp('2022-12-23 00:00:00'), 27.47], [Timestamp('2022-12-22 00:00:00'), 27.3], [Timestamp('2022-12-21 00:00:00'), 27.17], [Timestamp('2022-12-20 00:00:00'), 26.96], [Timestamp('2022-12-19 00:00:00'), 26.65], [Timestamp('2022-12-16 00:00:00'), 27.61], [Timestamp('2022-12-15 00:00:00'), 25.82], [Timestamp('2022-12-14 00:00:00'), 25.87], [Timestamp('2022-12-13 00:00:00'), 26.35], [Timestamp('2022-12-12 00:00:00'), 24.21], [Timestamp('2022-12-09 00:00:00'), 24.52], [Timestamp('2022-12-08 00:00:00'), 24.44], [Timestamp('2022-12-07 00:00:00'), 25.04], [Timestamp('2022-12-06 00:00:00'), 24.52], [Timestamp('2022-12-05 00:00:00'), 24.52], [Timestamp('2022-12-02 00:00:00'), 25.01], [Timestamp('2022-12-01 00:00:00'), 24.79], [Timestamp('2022-11-30 00:00:00'), 25.15], [Timestamp('2022-11-29 00:00:00'), 23.69], [Timestamp('2022-11-28 00:00:00'), 23.94], [Timestamp('2022-11-25 00:00:00'), 24.21], [Timestamp('2022-11-23 00:00:00'), 24.14], [Timestamp('2022-11-22 00:00:00'), 23.95], [Timestamp('2022-11-21 00:00:00'), 23.88], [Timestamp('2022-11-18 00:00:00'), 24.07], [Timestamp('2022-11-03 00:00:00'), 23.48], [Timestamp('2022-08-04 00:00:00'), 34.24], [Timestamp('2022-06-23 00:00:00'), 37.56], [Timestamp('2022-06-22 00:00:00'), 36.88], [Timestamp('2022-06-21 00:00:00'), 37.74], [Timestamp('2022-06-17 00:00:00'), 35.64], [Timestamp('2022-06-16 00:00:00'), 35.98], [Timestamp('2022-06-13 00:00:00'), 37.34]]\n"
     ]
    }
   ],
   "source": [
    "lis = []\n",
    "for i,row in df.iterrows():\n",
    "    if(row['MovAvg']>1.05*row['Close']):\n",
    "        lis.append([row['Date'],row['Close']])\n",
    "print(lis)"
   ]
  }
 ],
 "metadata": {
  "kernelspec": {
   "display_name": "Python 3 (ipykernel)",
   "language": "python",
   "name": "python3"
  },
  "language_info": {
   "codemirror_mode": {
    "name": "ipython",
    "version": 3
   },
   "file_extension": ".py",
   "mimetype": "text/x-python",
   "name": "python",
   "nbconvert_exporter": "python",
   "pygments_lexer": "ipython3",
   "version": "3.10.6"
  }
 },
 "nbformat": 4,
 "nbformat_minor": 5
}
