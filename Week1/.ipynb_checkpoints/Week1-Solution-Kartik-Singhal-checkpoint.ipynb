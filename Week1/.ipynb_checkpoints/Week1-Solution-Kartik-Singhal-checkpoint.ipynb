{
 "cells": [
  {
   "cell_type": "markdown",
   "id": "8510e686",
   "metadata": {},
   "source": [
    "# Part One"
   ]
  },
  {
   "cell_type": "markdown",
   "id": "16b989ec",
   "metadata": {},
   "source": [
    "Question 3"
   ]
  },
  {
   "cell_type": "code",
   "execution_count": 14,
   "id": "a7a3b04e",
   "metadata": {},
   "outputs": [],
   "source": [
    "import numpy as np\n",
    "from scipy import stats as st"
   ]
  },
  {
   "cell_type": "code",
   "execution_count": 3,
   "id": "b621e473",
   "metadata": {},
   "outputs": [],
   "source": [
    "arr = np.random.uniform(0,100,[100,1])"
   ]
  },
  {
   "cell_type": "code",
   "execution_count": 5,
   "id": "87683b24",
   "metadata": {},
   "outputs": [],
   "source": [
    "arr = arr.astype(int)"
   ]
  },
  {
   "cell_type": "code",
   "execution_count": 6,
   "id": "c0275090",
   "metadata": {},
   "outputs": [
    {
     "name": "stdout",
     "output_type": "stream",
     "text": [
      "[[32]\n",
      " [97]\n",
      " [48]\n",
      " [19]\n",
      " [24]\n",
      " [56]\n",
      " [96]\n",
      " [74]\n",
      " [18]\n",
      " [60]\n",
      " [ 4]\n",
      " [47]\n",
      " [20]\n",
      " [69]\n",
      " [15]\n",
      " [88]\n",
      " [35]\n",
      " [97]\n",
      " [57]\n",
      " [36]\n",
      " [67]\n",
      " [35]\n",
      " [78]\n",
      " [86]\n",
      " [31]\n",
      " [17]\n",
      " [56]\n",
      " [41]\n",
      " [30]\n",
      " [75]\n",
      " [77]\n",
      " [73]\n",
      " [22]\n",
      " [74]\n",
      " [91]\n",
      " [57]\n",
      " [52]\n",
      " [44]\n",
      " [27]\n",
      " [79]\n",
      " [89]\n",
      " [22]\n",
      " [87]\n",
      " [23]\n",
      " [44]\n",
      " [15]\n",
      " [80]\n",
      " [ 8]\n",
      " [78]\n",
      " [ 4]\n",
      " [20]\n",
      " [70]\n",
      " [68]\n",
      " [55]\n",
      " [92]\n",
      " [ 2]\n",
      " [84]\n",
      " [ 3]\n",
      " [66]\n",
      " [42]\n",
      " [76]\n",
      " [74]\n",
      " [ 2]\n",
      " [84]\n",
      " [21]\n",
      " [66]\n",
      " [ 6]\n",
      " [78]\n",
      " [53]\n",
      " [41]\n",
      " [59]\n",
      " [ 0]\n",
      " [30]\n",
      " [79]\n",
      " [73]\n",
      " [61]\n",
      " [46]\n",
      " [54]\n",
      " [20]\n",
      " [96]\n",
      " [97]\n",
      " [ 7]\n",
      " [10]\n",
      " [ 2]\n",
      " [98]\n",
      " [78]\n",
      " [11]\n",
      " [28]\n",
      " [74]\n",
      " [96]\n",
      " [40]\n",
      " [69]\n",
      " [97]\n",
      " [72]\n",
      " [50]\n",
      " [ 5]\n",
      " [74]\n",
      " [73]\n",
      " [18]\n",
      " [98]]\n"
     ]
    }
   ],
   "source": [
    "print(arr)"
   ]
  },
  {
   "cell_type": "code",
   "execution_count": 8,
   "id": "159ae991",
   "metadata": {},
   "outputs": [
    {
     "name": "stdout",
     "output_type": "stream",
     "text": [
      "51.72\n"
     ]
    }
   ],
   "source": [
    "meanvalue = np.mean(arr)\n",
    "print(meanvalue)"
   ]
  },
  {
   "cell_type": "code",
   "execution_count": 15,
   "id": "8799b1a8",
   "metadata": {},
   "outputs": [
    {
     "name": "stdout",
     "output_type": "stream",
     "text": [
      "ModeResult(mode=array([[74]]), count=array([[5]]))\n"
     ]
    }
   ],
   "source": [
    "modevalue = st.mode(arr)\n",
    "print (modevalue)"
   ]
  },
  {
   "cell_type": "code",
   "execution_count": 17,
   "id": "041a4dd9",
   "metadata": {},
   "outputs": [
    {
     "name": "stdout",
     "output_type": "stream",
     "text": [
      "895.3615999999998\n"
     ]
    }
   ],
   "source": [
    "var = np.var(arr)\n",
    "print(var)"
   ]
  },
  {
   "cell_type": "code",
   "execution_count": 18,
   "id": "82e6ede1",
   "metadata": {},
   "outputs": [
    {
     "name": "stdout",
     "output_type": "stream",
     "text": [
      "53.5\n"
     ]
    }
   ],
   "source": [
    "iqr = st.iqr(arr)\n",
    "print(iqr)"
   ]
  },
  {
   "cell_type": "markdown",
   "id": "da878698",
   "metadata": {},
   "source": [
    "## Part 2"
   ]
  },
  {
   "cell_type": "code",
   "execution_count": null,
   "id": "dcb3c780",
   "metadata": {},
   "outputs": [],
   "source": []
  },
  {
   "cell_type": "code",
   "execution_count": null,
   "id": "94799c3e",
   "metadata": {},
   "outputs": [],
   "source": []
  }
 ],
 "metadata": {
  "kernelspec": {
   "display_name": "Python 3 (ipykernel)",
   "language": "python",
   "name": "python3"
  },
  "language_info": {
   "codemirror_mode": {
    "name": "ipython",
    "version": 3
   },
   "file_extension": ".py",
   "mimetype": "text/x-python",
   "name": "python",
   "nbconvert_exporter": "python",
   "pygments_lexer": "ipython3",
   "version": "3.10.6"
  }
 },
 "nbformat": 4,
 "nbformat_minor": 5
}
